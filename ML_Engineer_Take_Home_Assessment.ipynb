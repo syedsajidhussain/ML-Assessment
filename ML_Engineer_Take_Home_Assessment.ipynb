{
  "cells": [
    {
      "cell_type": "markdown",
      "metadata": {
        "id": "view-in-github",
        "colab_type": "text"
      },
      "source": [
        "<a href=\"https://colab.research.google.com/github/syedsajidhussain/ML-Assessment/blob/main/ML_Engineer_Take_Home_Assessment.ipynb\" target=\"_parent\"><img src=\"https://colab.research.google.com/assets/colab-badge.svg\" alt=\"Open In Colab\"/></a>"
      ]
    },
    {
      "cell_type": "markdown",
      "metadata": {
        "id": "5Vu93d2olS3m"
      },
      "source": [
        "# Design and Train an object detector to detect objects\n",
        "\n",
        "You have to design and implement a Training Pipeline that can train, test and visualize the model using the dataset provided.\n",
        "\n",
        "## Assignment Protocols\n",
        "\n",
        "- We expect it to take ~4 hours, with an extra 15 min for clear loom explanation(s)\n",
        "  - The assessment is timeboxed at 5 hours total in a single block. So please plan accordingly\n",
        "- You need to use Google Collaboratory to run and edit this notebook\n",
        "- You can only use Python as a programming Language\n",
        "- You cannot take help from any other person\n",
        "- You can use Google to search for references\n",
        "- You can not search on google for design-related things, like what should be loss function, or what should be model architecture.\n",
        "  - But you can use pre-trained backbones from PyTorch\n",
        "- Record a 5-10 mins of code walkthrough of the work you have done. You can use Loom Platform (https://www.loom.com) to record the video.\n",
        "  - Design Decisions\n",
        "    - Model Design which layers and activation functions you used and why\n",
        "    - Loss function, which loss functions you used and why\n",
        "    - Metrics, which metrics and why\n",
        "  - Any optimizations you have made to the codebase\n",
        "  - How you implemented resume functionality, what were the things you thought would be needed to resume training from exact same point\n",
        "  - Explain what parts of the assessment are completed and what is missing?\n",
        "  - Make sure to submit the screen recording link in the submission after you are done recording\n",
        "  - Please note that the free plan on Loom only allows for videos up to 5 minutes in length. As such, you may need to record two separate 5-minute videos.\n",
        "- [NO SUBMISSION WILL BE ACCEPTED WITHOUT]\n",
        "  - Trained best model weights\n",
        "  - Visualize Function in the Notebook\n",
        "  - Code Walk-through video\n",
        "\n",
        "## Task Details\n",
        "Design a Training Pipeline to train a object detector with following specs or assumptions:\n",
        "- Implement & Design Model\n",
        "  - You can use any backbone\n",
        "    - Either from PyTorch (torhvision) or any resource online\n",
        "    - But you need to design head your self (head means how you will use features of the back bone and get the desired outputs)\n",
        "  - Model needs to detect one object in each image\n",
        "  - Model should output following for each image passed as input:\n",
        "    - Whether we have an object or not\n",
        "    - Where is the object?\n",
        "      - The bounding box output format should be xmin, ymin, xmax, ymax\n",
        "      - It is not necessary the model is trained to output exactly this format but the visualize function which shows output should output in this format\n",
        "    - Either the object is a cat or dog?\n",
        "    - And which specie the object belongs to? There are in total 9 species: \n",
        "      - Cat [3 species]:\n",
        "        - Abyssinian\n",
        "        - Birman\n",
        "        - Persian\n",
        "      - Dog [6 species]\n",
        "        - american_bulldog\n",
        "        - american_pit_bull_terrier\n",
        "        - basset_hound\n",
        "        - beagle\n",
        "        - chihuahua\n",
        "        - pomeranian\n",
        "- Implement Custom Dataloader\n",
        "  - This is obvious as dataset is in a unique format any predifined dataloader wont work\n",
        "  - Follow best practices of writing custom dataloaders\n",
        "  - Details of the format of the dataset are defined in the Dataset Details section below\n",
        "  - Add needed pre-processing that you think would help train a better model or would help as we are using pre-trained weights as starting point\n",
        "  - Add augmentations that you think would help train a better model\n",
        "- Implement Loss Function\n",
        "  - Design and implement a loss function that can handle all of the outputs we have\n",
        "  - You can use pytorch built-in loss functions\n",
        "  - There are many scenarios which you need to handle, which one can understand from the dataset details and the model design\n",
        "- Implement Test Function\n",
        "  - The test function should be able to run the model on the validation set and output the metrics for all the outputs of the model\n",
        "  - Select the metrics carefully, there are many scenarios which can change the selection of a metric\n",
        "  - Keep in mind there are multiple outputs, you would need a metric for each output\n",
        "  - [NOTE] You don't need to implement metrics for the bounding box output as it can take more time than provided for this assessment. But please add details of the metrics you would have implemented in your code-walk through loom video.\n",
        "- Update Resume Training Functionality using the best weights\n",
        "  - Current script does not have save best weights functionality\n",
        "  - The code should be able to resume training from exactly same point from where the training was stopped if model weights file is passed\n",
        "  - Keep in mind you can not resume training from same point by just loading weights of the model\n",
        "- Implement a visualize function [Most important, without this no submission will be accepted]\n",
        "  - The input of the function should be path of a folder with images and the weight file\n",
        "    - Also the output folder path to save outputs\n",
        "  - This function should return a dictionary of dictionaries with following details for each image:\n",
        "    - {\n",
        "        \"has_object\": True,\n",
        "        \"cat_or_dog\": \"cat\",\n",
        "        \"specie\": \"persian\",\n",
        "        \"xmin\": 10,\n",
        "        \"ymin\": 10,\n",
        "        \"xmax\": 10,\n",
        "        \"ymax\": 10\n",
        "    }\n",
        "  - And in case there is no object it should have 0 for bbox values, \"NA\" for \"cat_or_dog\" and \"specie\", and False for \"has_object\".\n",
        "  - Values of the returned dictionary should be like explained above and keys should be image names including the extension \".jpg\" or \".jpeg\"\n",
        "  - Should save output image with bounding box drawn on it, with same name input image but place in the output folder \n",
        "- Try to train the best model\n",
        "\n",
        "\n",
        "## Dataset Details\n",
        "The dataset has in total 1041 images. Each image has a single object which is either a cat or a dog.\n",
        "- There are multiple species for both cat and dog.\n",
        "- The number of images falling in each specie is as follows:\n",
        "  - basset_hound: 93\n",
        "  - Birman: 93\n",
        "  - pomeranian: 93\n",
        "  - american_pit_bull_terrier: 93\n",
        "  - american_bulldog: 93\n",
        "  - Abyssinian: 92\n",
        "  - beagle: 93\n",
        "  - Persian: 93\n",
        "  - chihuahua: 93\n",
        "  - empty: 142\n",
        "- The dataset has two folders:\n",
        "  - images\n",
        "    - Inside images folder we have 986 images in .jpg folder\n",
        "  - labels\n",
        "    - Inside labels folder we have 899 .xml files each file with details of image labels\n",
        "    - For any image that does not have a cat or dog, there is no corresponding xml file\n",
        "\n",
        "## Deliverable\n",
        "- Updated Colab Based Jupyter Notebook:\n",
        "  - With all the required functionality Implemented\n",
        "  - Which one can train the model without any errors\n",
        "  - One should achieve same metrics (Almost same metrics) if I run training using this collab notebook\n",
        "    - Set default values for everything accordingly in the notebook\n",
        "  - During evaluation we will just run the notebook and use the best weights the notebook saves automatically\n",
        "- Best weights you have trained\n",
        "  - We will Evaluate your weights against hold-out test we have and compare results\n",
        "  - We will use visualize function to generate outputs for each image\n",
        "  - Upload weights in an easily downloadable location like, Dropbox, Google Drive, Github, etc\n",
        "- A video code-walk through explaining your design decisions including but not limited to:\n",
        "  - Model Design which layers and activation functions you used and why\n",
        "  - Loss function, which loss functions you used and why\n",
        "  - Metrics, which metrics and why\n",
        "  - Any optimizations you have made to the codebase\n",
        "  - How you implemented resume functionality, what were the things you thought would be needed to resume training from exact same point\n",
        "\n",
        "\n",
        "## Evaluation Criteria\n",
        " - Design Decisions\n",
        " - Completeness: Did you include all features?\n",
        " - Correctness: Does the solution (all deliverables) work in sensible, thought-out ways?\n",
        " - Maintainability: Is the code written in a clean, maintainable way?\n",
        " - Testing: Is the solution adequately tested?\n",
        " - Documentation: Is the codebase well-documented and has proper steps to run any of the deliverables?\n",
        "\n",
        "## Extra Points\n",
        "- Add metrics for the Bounding Box Output\n",
        "- Any Updates in the notebook (Bugs/Implementation Mistakes etc)\n",
        "\n",
        "## How to submit\n",
        "- Please upload the Notebook for this project to GitHub, and post a link to your repository below [repo link box, on the left of submit button].\n",
        "  - Create a new GitHub repository from scratch\n",
        "  - Add the final Colab/Jupyter notebook to the repository\n",
        "- Please upload video and your final best weights on Google Drive or any other platform, and paste the link to the folder with both video and model in the text box just above the submit button.\n",
        "- Please paste the commit Id of the latest commit of your Github Repo, which should not be later than 5 hours of time when the repo was created.\n",
        "  - Please note the submission without the commit id will not be considered."
      ]
    },
    {
      "cell_type": "markdown",
      "metadata": {
        "id": "KE_rGh4kod4n"
      },
      "source": [
        "# Install Required Modules"
      ]
    },
    {
      "cell_type": "code",
      "source": [],
      "metadata": {
        "id": "GMsenlt6Q-1w"
      },
      "execution_count": null,
      "outputs": []
    },
    {
      "cell_type": "code",
      "source": [
        "from google.colab import drive\n",
        "drive.mount('/content/drive')"
      ],
      "metadata": {
        "colab": {
          "base_uri": "https://localhost:8080/"
        },
        "id": "s73hC1H1RAjm",
        "outputId": "01b8a247-dbe5-4ed5-c8c1-78bc1d665663"
      },
      "execution_count": 4,
      "outputs": [
        {
          "output_type": "stream",
          "name": "stdout",
          "text": [
            "Mounted at /content/drive\n"
          ]
        }
      ]
    },
    {
      "cell_type": "code",
      "source": [
        "%cd drive/MyDrive/\n",
        "!ls"
      ],
      "metadata": {
        "id": "7zxt6BcRRE0E"
      },
      "execution_count": null,
      "outputs": []
    },
    {
      "cell_type": "code",
      "execution_count": 7,
      "metadata": {
        "id": "magQ0ErkoOIR",
        "colab": {
          "base_uri": "https://localhost:8080/"
        },
        "outputId": "d2cc21bd-396f-41f7-ca60-af1ecc4e1725"
      },
      "outputs": [
        {
          "output_type": "stream",
          "name": "stdout",
          "text": [
            "Looking in indexes: https://pypi.org/simple, https://us-python.pkg.dev/colab-wheels/public/simple/\n",
            "Requirement already satisfied: bs4 in /usr/local/lib/python3.10/dist-packages (0.0.1)\n",
            "Requirement already satisfied: lxml in /usr/local/lib/python3.10/dist-packages (4.9.2)\n",
            "Requirement already satisfied: kaggle in /usr/local/lib/python3.10/dist-packages (1.5.13)\n",
            "Requirement already satisfied: beautifulsoup4 in /usr/local/lib/python3.10/dist-packages (from bs4) (4.11.2)\n",
            "Requirement already satisfied: six>=1.10 in /usr/local/lib/python3.10/dist-packages (from kaggle) (1.16.0)\n",
            "Requirement already satisfied: certifi in /usr/local/lib/python3.10/dist-packages (from kaggle) (2022.12.7)\n",
            "Requirement already satisfied: python-dateutil in /usr/local/lib/python3.10/dist-packages (from kaggle) (2.8.2)\n",
            "Requirement already satisfied: requests in /usr/local/lib/python3.10/dist-packages (from kaggle) (2.27.1)\n",
            "Requirement already satisfied: tqdm in /usr/local/lib/python3.10/dist-packages (from kaggle) (4.65.0)\n",
            "Requirement already satisfied: python-slugify in /usr/local/lib/python3.10/dist-packages (from kaggle) (8.0.1)\n",
            "Requirement already satisfied: urllib3 in /usr/local/lib/python3.10/dist-packages (from kaggle) (1.26.15)\n",
            "Requirement already satisfied: soupsieve>1.2 in /usr/local/lib/python3.10/dist-packages (from beautifulsoup4->bs4) (2.4.1)\n",
            "Requirement already satisfied: text-unidecode>=1.3 in /usr/local/lib/python3.10/dist-packages (from python-slugify->kaggle) (1.3)\n",
            "Requirement already satisfied: charset-normalizer~=2.0.0 in /usr/local/lib/python3.10/dist-packages (from requests->kaggle) (2.0.12)\n",
            "Requirement already satisfied: idna<4,>=2.5 in /usr/local/lib/python3.10/dist-packages (from requests->kaggle) (3.4)\n"
          ]
        }
      ],
      "source": [
        "! pip install bs4 lxml kaggle"
      ]
    },
    {
      "cell_type": "markdown",
      "metadata": {
        "id": "Bw3F4t1eaLl6"
      },
      "source": [
        "# Download Dataset from Kaggle"
      ]
    },
    {
      "cell_type": "code",
      "execution_count": 8,
      "metadata": {
        "id": "59RSpyzRaOVj"
      },
      "outputs": [],
      "source": [
        "import os\n",
        "os.environ['KAGGLE_USERNAME'] = 'bilalyousaf0014'\n",
        "os.environ['KAGGLE_KEY'] = '11031bc21c5e3ec23585dbe17dc4267d'"
      ]
    },
    {
      "cell_type": "code",
      "execution_count": 9,
      "metadata": {
        "id": "plZEhi_oaPPn",
        "colab": {
          "base_uri": "https://localhost:8080/"
        },
        "outputId": "07e5e7a6-2288-4f09-851c-478d0a931d17"
      },
      "outputs": [
        {
          "output_type": "stream",
          "name": "stdout",
          "text": [
            "ml-engineer-assessment-dataset.zip: Skipping, found more recently modified local copy (use --force to force download)\n"
          ]
        }
      ],
      "source": [
        "!kaggle datasets download -d bilalyousaf0014/ml-engineer-assessment-dataset"
      ]
    },
    {
      "cell_type": "code",
      "execution_count": 10,
      "metadata": {
        "id": "d6jkCK0uaxRT",
        "colab": {
          "base_uri": "https://localhost:8080/"
        },
        "outputId": "5efd9f6e-641e-4343-957b-49a8f361cbb0"
      },
      "outputs": [
        {
          "output_type": "stream",
          "name": "stdout",
          "text": [
            "Archive:  /content/ml-engineer-assessment-dataset.zip\n",
            "replace assessment_dataset/images/00001.jpeg? [y]es, [n]o, [A]ll, [N]one, [r]ename: n\n",
            "replace assessment_dataset/images/00008.jpeg? [y]es, [n]o, [A]ll, [N]one, [r]ename: n\n",
            "replace assessment_dataset/images/00017.jpeg? [y]es, [n]o, [A]ll, [N]one, [r]ename: "
          ]
        }
      ],
      "source": [
        "! unzip /content/ml-engineer-assessment-dataset.zip"
      ]
    },
    {
      "cell_type": "markdown",
      "metadata": {
        "id": "PMEbUqsPl9s4"
      },
      "source": [
        "# MODEL IMPLEMENTATION:"
      ]
    },
    {
      "cell_type": "code",
      "execution_count": 54,
      "metadata": {
        "id": "uXb6eKgFmNzx"
      },
      "outputs": [],
      "source": [
        "import os\n",
        "import torch\n",
        "import torch.nn as nn\n",
        "import numpy as np\n",
        "\n",
        "from torchvision.models import resnet18, ResNet18_Weights"
      ]
    },
    {
      "cell_type": "code",
      "execution_count": 55,
      "metadata": {
        "id": "BtSgG4OklRte"
      },
      "outputs": [],
      "source": [
        "class Model(nn.Module):\n",
        "\n",
        "  def __init__(self):\n",
        "    super(Model, self).__init__()\n",
        "    pretrained_model = resnet18(weights=ResNet18_Weights.DEFAULT)\n",
        "    self.backbone = nn.Sequential(*list(pretrained_model.children())[:-2])\n",
        "    ### Initialize the required Layers\n",
        "    self.have_object = None\n",
        "    self.cat_or_dog = None\n",
        "    self.specie = None\n",
        "    self.bbox = None\n",
        "    ### Initialize the required Layers\n",
        "\n",
        "  def forward(self, input):\n",
        "      out_backbone = self.backbone(input)\n",
        "      ### Write Forward Calls for the Model\n",
        "\n",
        "      return {\n",
        "          \"bbox\": None,\n",
        "          \"object\": None,\n",
        "          \"cat_or_dog\": None,\n",
        "          \"specie\": None\n",
        "      }\n"
      ]
    },
    {
      "cell_type": "markdown",
      "metadata": {
        "id": "avxCQ2W-oGxV"
      },
      "source": [
        "# CUSTOM DATALOADER IMPLEMENTATION"
      ]
    },
    {
      "cell_type": "code",
      "execution_count": 56,
      "metadata": {
        "id": "ZNds6zOg8w5A"
      },
      "outputs": [],
      "source": [
        "train_list = np.load('/content/drive/MyDrive/assessment_dataset/train_list.npy', allow_pickle=True).tolist()\n",
        "val_list = np.load('/content/drive/MyDrive/assessment_dataset/val_list.npy', allow_pickle=True).tolist()"
      ]
    },
    {
      "cell_type": "code",
      "execution_count": 57,
      "metadata": {
        "id": "E30zu6ICmKOL"
      },
      "outputs": [],
      "source": [
        "from bs4 import BeautifulSoup\n",
        "\n",
        "def read_xml_file(path):\n",
        "    with open(path, 'r') as f:\n",
        "        data = f.read()\n",
        "    bs_data = BeautifulSoup(data, 'xml')\n",
        "    return {\n",
        "        \"cat_or_dog\": bs_data.find(\"name\").text,\n",
        "        \"xmin\": int(bs_data.find(\"xmin\").text),\n",
        "        \"ymin\": int(bs_data.find(\"ymin\").text),\n",
        "        \"xmax\": int(bs_data.find(\"xmax\").text),\n",
        "        \"ymax\": int(bs_data.find(\"ymax\").text),\n",
        "        \"specie\": \"_\".join(path.split(os.sep)[-1].split(\"_\")[:-1])\n",
        "    }"
      ]
    },
    {
      "cell_type": "code",
      "execution_count": 58,
      "metadata": {
        "id": "z16n7BbnoviB"
      },
      "outputs": [],
      "source": [
        "from PIL import Image\n",
        "\n",
        "import torchvision.transforms as transforms\n",
        "\n",
        "\n",
        "class CustomDataset():\n",
        "\n",
        "  def __init__(self, dataset_path, images_list, train=False):\n",
        "\n",
        "    self.preprocess = None\n",
        "\n",
        "    image_folder_path = os.path.join(dataset_path, \"images\")\n",
        "    label_folder_path = os.path.join(dataset_path, \"labels\")\n",
        "\n",
        "    for path in os.listdir(image_folder_path):\n",
        "        name = path.split(os.sep)[-1].split(\".\")[0]\n",
        "        if name in images_list:\n",
        "          xml_path = os.path.join(label_folder_path, name+\".xml\")\n",
        "          xml_data = read_xml_file(xml_path)\n",
        "\n",
        "  def __len__(self):\n",
        "    return None\n",
        "\n",
        "  def __getitem__(self, index):\n",
        "    image = self.preprocess(image)\n",
        "    labels = None\n",
        "    return image, label"
      ]
    },
    {
      "cell_type": "markdown",
      "metadata": {
        "id": "hkbn3C3cqahY"
      },
      "source": [
        "# TRAINING LOOP IMPLEMENTATION"
      ]
    },
    {
      "cell_type": "markdown",
      "metadata": {
        "id": "SxODf-DLqmPA"
      },
      "source": [
        "## Initializations"
      ]
    },
    {
      "cell_type": "code",
      "source": [
        "!pip install torchmetrics\n",
        "from torchmetrics.functional import accuracy"
      ],
      "metadata": {
        "colab": {
          "base_uri": "https://localhost:8080/"
        },
        "id": "tXS7TKDiTOYq",
        "outputId": "e5541e22-bbd5-4b02-9c98-c7310c0d760b"
      },
      "execution_count": 59,
      "outputs": [
        {
          "output_type": "stream",
          "name": "stdout",
          "text": [
            "Looking in indexes: https://pypi.org/simple, https://us-python.pkg.dev/colab-wheels/public/simple/\n",
            "Requirement already satisfied: torchmetrics in /usr/local/lib/python3.10/dist-packages (0.11.4)\n",
            "Requirement already satisfied: numpy>=1.17.2 in /usr/local/lib/python3.10/dist-packages (from torchmetrics) (1.22.4)\n",
            "Requirement already satisfied: torch>=1.8.1 in /usr/local/lib/python3.10/dist-packages (from torchmetrics) (2.0.1+cu118)\n",
            "Requirement already satisfied: packaging in /usr/local/lib/python3.10/dist-packages (from torchmetrics) (23.1)\n",
            "Requirement already satisfied: filelock in /usr/local/lib/python3.10/dist-packages (from torch>=1.8.1->torchmetrics) (3.12.0)\n",
            "Requirement already satisfied: typing-extensions in /usr/local/lib/python3.10/dist-packages (from torch>=1.8.1->torchmetrics) (4.5.0)\n",
            "Requirement already satisfied: sympy in /usr/local/lib/python3.10/dist-packages (from torch>=1.8.1->torchmetrics) (1.11.1)\n",
            "Requirement already satisfied: networkx in /usr/local/lib/python3.10/dist-packages (from torch>=1.8.1->torchmetrics) (3.1)\n",
            "Requirement already satisfied: jinja2 in /usr/local/lib/python3.10/dist-packages (from torch>=1.8.1->torchmetrics) (3.1.2)\n",
            "Requirement already satisfied: triton==2.0.0 in /usr/local/lib/python3.10/dist-packages (from torch>=1.8.1->torchmetrics) (2.0.0)\n",
            "Requirement already satisfied: cmake in /usr/local/lib/python3.10/dist-packages (from triton==2.0.0->torch>=1.8.1->torchmetrics) (3.25.2)\n",
            "Requirement already satisfied: lit in /usr/local/lib/python3.10/dist-packages (from triton==2.0.0->torch>=1.8.1->torchmetrics) (16.0.5)\n",
            "Requirement already satisfied: MarkupSafe>=2.0 in /usr/local/lib/python3.10/dist-packages (from jinja2->torch>=1.8.1->torchmetrics) (2.1.2)\n",
            "Requirement already satisfied: mpmath>=0.19 in /usr/local/lib/python3.10/dist-packages (from sympy->torch>=1.8.1->torchmetrics) (1.3.0)\n"
          ]
        }
      ]
    },
    {
      "cell_type": "code",
      "execution_count": 60,
      "metadata": {
        "id": "Drkrrx8pqjzM"
      },
      "outputs": [],
      "source": [
        "from torch.utils.data import DataLoader"
      ]
    },
    {
      "cell_type": "code",
      "execution_count": 61,
      "metadata": {
        "id": "1k8jvr7EqaPz"
      },
      "outputs": [],
      "source": [
        "# import our library\n",
        "import torchmetrics\n",
        "\n",
        "def train(epochs, model_weights):\n",
        "\n",
        "  # Initialize Model and Optimizer\n",
        "  model = Model()\n",
        "  optimizer = None\n",
        "\n",
        "  # Initialize Loss Functions\n",
        "  have_object_loss = None\n",
        "  specie_loss = None\n",
        "  cat_or_dog_loss = None\n",
        "  bbox_loss = None # Not necessary you need to apply function to all coordinates together, You can have separete loss functions for all coordinates too\n",
        "  # Below or Above\n",
        "  xmin_loss = None\n",
        "  ymin_loss = None\n",
        "  xmax_loss = None\n",
        "  ymax_loss = None\n",
        "\n",
        "  training_dataset = CustomDataset(\"/content/drive/MyDrive/assessment_dataset\", images_list=train_list)\n",
        "  training_loader = None\n",
        "\n",
        "  if torch.cuda.is_available():\n",
        "    model = model.cuda()\n",
        "\n",
        "  def train_one_epoch(epoch_index, tb_writer):\n",
        "      running_loss = 0.\n",
        "      last_loss = 0.\n",
        "\n",
        "      # Here, we use enumerate(training_loader) instead of\n",
        "      # iter(training_loader) so that we can track the batch\n",
        "      # index and do some intra-epoch reporting\n",
        "      for i, data in enumerate(training_loader):\n",
        "          # Every data instance is an input + label pair\n",
        "          inputs, labels = data\n",
        "\n",
        "          # Make predictions for this batch\n",
        "          outputs = model(inputs)\n",
        "\n",
        "          # Compute the loss and its gradients\n",
        "          loss_have_object = have_object_loss(outputs[\"object\"], None)\n",
        "          loss_specie = specie_loss(outputs[\"specie\"], None)\n",
        "          loss_cat_or_dog = cat_or_dog_loss(outputs[\"cat_or_dog\"], None)\n",
        "          \n",
        "          loss_bbox = bbox_loss(outputs[\"bbox\"], None)\n",
        "          # Above or Below\n",
        "          loss_xmin = xmin_loss(outputs[\"bbox\"], None)\n",
        "          loss_ymin = ymin_loss(outputs[\"bbox\"], None)\n",
        "          loss_xmax = xmax_loss(outputs[\"bbox\"], None)\n",
        "          loss_ymax = ymax_loss(outputs[\"bbox\"], None)\n",
        "\n",
        "          loss = loss_have_object + loss_specie + loss_cat_or_dog + loss_bbox + loss_xmin + loss_ymin + loss_xmax + loss_ymax\n",
        "          # Consolidate all individual losses\n",
        "\n",
        "          # Gather data and report\n",
        "          running_loss += loss.item()\n",
        "          if i % 10 == 0:\n",
        "              last_loss = running_loss / 10 # loss per batch\n",
        "              running_loss = 0.\n",
        "      return last_loss\n",
        "\n",
        "  for i in range(epochs):\n",
        "\n",
        "    epoch_loss = train_one_epoch(i, None)\n",
        "    print(f' Epoch {i} Loss : {epoch_loss}')\n",
        "\n",
        "    torch.save(\"/content/drive/MyDrive/assessment_dataset/model.pth\", model.state_dict())\n",
        "    metrics = test(model)\n",
        "    print(metrics)\n",
        "\n",
        "def test(model, val_list):\n",
        "\n",
        "  def post_process_object(x):\n",
        "    return x\n",
        "\n",
        "  def post_process_cat_or_dog(x):\n",
        "    return x\n",
        "\n",
        "  def post_process_specie(x):\n",
        "    return x\n",
        "\n",
        "  def post_process_bbox(x):\n",
        "    return x\n",
        "\n",
        "  val_dataset = CustomDataset(\"/content/drive/MyDrive/assessment_dataset\", images_list=val_list)\n",
        "  val_loader = None\n",
        "\n",
        "  metric_object = None\n",
        "  metric_cat_or_dog = None\n",
        "  metric_specie = None\n",
        "  metric_bbox = None\n",
        "\n",
        "  for i, data in enumerate(val_loader):\n",
        "    inputs, labels = data\n",
        "\n",
        "    # Make predictions for this batch\n",
        "    outputs = model(inputs)\n",
        "\n",
        "  score_object = metric_object()\n",
        "  score_cat_or_dog = metric_cat_or_dog()\n",
        "  score_specie = metric_specie()\n",
        "  score_bbox = metric_bbox()\n",
        "\n",
        "  return score_object, score_cat_or_dog, score_specie, score_bbox"
      ]
    },
    {
      "cell_type": "code",
      "execution_count": 35,
      "metadata": {
        "id": "8TgRVGPDaUAd"
      },
      "outputs": [],
      "source": [
        "from PIL import ImageDraw\n",
        "\n",
        "def visualize(model_weights, image_folder_path, output_folder=\"output\"):\n",
        "\n",
        "  model = Model()\n",
        "  model.load_state_dict(torch.load(model_weights))\n",
        "\n",
        "  try:\n",
        "    image = Image.open(os.path.join(\"/content/drive/MyDrive/assessment_dataset/images\", image_name+\".jpg\"))\n",
        "  except:\n",
        "    image = Image.open(os.path.join(\"/content/drive/MyDrive/assessment_dataset/images\", image_name+\".jpeg\"))\n",
        "\n",
        "  preprocess = None\n",
        "  output = model()\n",
        "  return {}"
      ]
    },
    {
      "cell_type": "code",
      "execution_count": 62,
      "metadata": {
        "id": "u7npVwns6LU6"
      },
      "outputs": [],
      "source": [
        "import os\n",
        "import torch\n",
        "import torch.nn as nn\n",
        "import numpy as np\n",
        "from torchvision.models import resnet18\n",
        "\n",
        "# Model Implementation\n",
        "class Model(nn.Module):\n",
        "    def __init__(self):\n",
        "        super(Model, self).__init__()\n",
        "        self.backbone = resnet18(pretrained=True)\n",
        "        self.have_object = nn.Linear(512, 1)\n",
        "        self.bbox = nn.Linear(512, 4)\n",
        "        self.cat_or_dog = nn.Linear(512, 2)\n",
        "        self.specie = nn.Linear(512, 9)\n",
        "    \n",
        "    def forward(self, input):\n",
        "        features = self.backbone(input)\n",
        "        have_object = torch.sigmoid(self.have_object(features))\n",
        "        bbox = self.bbox(features)\n",
        "        cat_or_dog = torch.sigmoid(self.cat_or_dog(features))\n",
        "        specie = torch.sigmoid(self.specie(features))\n",
        "        \n",
        "        return {\"bbox\": bbox, \"object\": have_object, \"cat_or_dog\": cat_or_dog, \"specie\": specie}\n",
        "\n",
        "# Custom Dataloader Implementation\n",
        "class CustomDataset(torch.utils.data.Dataset):\n",
        "    def __init__(self, dataset_path, images_list, train=False):\n",
        "        self.images = []\n",
        "        self.labels = []\n",
        "        # Read and store image paths and labels from images_list\n",
        "        \n",
        "        # Implement any preprocessing and augmentations you need\n",
        "        \n",
        "    def __len__(self):\n",
        "        return len(self.images)\n",
        "    \n",
        "    def __getitem__(self, index):\n",
        "        image_path = self.images[index]\n",
        "        image = self.preprocess(image_path)  # Implement the preprocessing function\n",
        "        label = self.labels[index]\n",
        "        return image, label\n",
        "\n",
        "# Training Loop Implementation\n",
        "def train(epochs, model_weights):\n",
        "    model = Model()\n",
        "    optimizer = torch.optim.Adam(model.parameters(), lr=0.001)\n",
        "    criterion_bbox = nn.MSELoss()\n",
        "    criterion_object = nn.BCELoss()\n",
        "    criterion_cat_or_dog = nn.CrossEntropyLoss()\n",
        "    criterion_specie = nn.CrossEntropyLoss()\n",
        "    \n",
        "    training_dataset = CustomDataset(\"/content/drive/MyDrive/assessment_dataset/\", images_list=train_list, train=True)\n",
        "    training_loader = DataLoader(training_dataset, batch_size=16, shuffle=True)\n",
        "    \n",
        "    device = torch.device(\"cuda\" if torch.cuda.is_available() else \"cpu\")\n",
        "    model.to(device)\n",
        "    \n",
        "    for epoch in range(epochs):\n",
        "        model.train()\n",
        "        epoch_loss = 0.0\n",
        "        \n",
        "        for inputs, labels in training_loader:\n",
        "            inputs = inputs.to(device)\n",
        "            labels = {\n",
        "                \"bbox\": labels[\"bbox\"].to(device),\n",
        "                \"object\": labels[\"object\"].to(device),\n",
        "                \"cat_or_dog\": labels[\"cat_or_dog\"].to(device),\n",
        "                \"specie\": labels[\"specie\"].to(device)\n",
        "            }\n",
        "            \n",
        "            optimizer.zero_grad()\n",
        "            outputs = model(inputs)\n",
        "            \n",
        "            loss_bbox = criterion_bbox(outputs[\"bbox\"], labels[\"bbox\"])\n",
        "            loss_object = criterion_object(outputs[\"object\"], labels[\"object\"])\n",
        "            loss_cat_or_dog = criterion_cat_or_dog(outputs[\"cat_or_dog\"], labels[\"cat_or_dog\"])\n",
        "            loss_specie = criterion_specie(outputs[\"specie\"], labels[\"specie\"])\n",
        "            \n",
        "            loss = loss_bbox + loss_object + loss_cat_or_dog + loss_specie\n",
        "            loss.backward()\n",
        "            optimizer.step()\n",
        "            \n",
        "            epoch_loss += loss.item() * inputs.size(0)\n",
        "        \n",
        "        epoch_loss /= len(training_dataset)\n",
        "        print(f\"Epoch {epoch+1}/{epochs}, Loss: {epoch_loss:.4f}\")\n",
        "    \n",
        "    # Save the trained model\n",
        "    torch.save(model.state_dict(), model_weights)\n",
        "    print(\"Trained model saved successfully!\")\n"
      ]
    },
    {
      "cell_type": "code",
      "source": [
        "def test(model, val_list):\n",
        "    model.eval()\n",
        "    val_dataset = CustomDataset(\"/content/drive/MyDrive/assessment_dataset/\", images_list=val_list)\n",
        "    val_loader = DataLoader(val_dataset, batch_size=16)\n",
        "    \n",
        "    metric_object = torchmetrics.AverageMeter()\n",
        "    metric_cat_or_dog = torchmetrics.AverageMeter()\n",
        "    metric_specie = torchmetrics.AverageMeter()\n",
        "    metric_bbox = torchmetrics.AverageMeter()\n",
        "    \n",
        "    with torch.no_grad():\n",
        "        for inputs, labels in val_loader:\n",
        "            inputs = inputs.to(device)\n",
        "            labels = {\n",
        "                \"bbox\": labels[\"bbox\"].to(device),\n",
        "                \"object\": labels[\"object\"].to(device),\n",
        "                \"cat_or_dog\": labels[\"cat_or_dog\"].to(device),\n",
        "                \"specie\": labels[\"specie\"].to(device)\n",
        "            }\n",
        "            \n",
        "            outputs = model(inputs)\n",
        "            \n",
        "            loss_bbox = criterion_bbox(outputs[\"bbox\"], labels[\"bbox\"])\n",
        "            loss_object = criterion_object(outputs[\"object\"], labels[\"object\"])\n",
        "            loss_cat_or_dog = criterion_cat_or_dog(outputs[\"cat_or_dog\"], labels[\"cat_or_dog\"])\n",
        "            loss_specie = criterion_specie(outputs[\"specie\"], labels[\"specie\"])\n",
        "            \n",
        "            metric_object.update(loss_object.item(), inputs.size(0))\n",
        "            metric_cat_or_dog.update(loss_cat_or_dog.item(), inputs.size(0))\n",
        "            metric_specie.update(loss_specie.item(), inputs.size(0))\n",
        "            metric_bbox.update(loss_bbox.item(), inputs.size(0))\n",
        "    \n",
        "    avg_object_loss = metric_object.compute()\n",
        "    avg_cat_or_dog_loss = metric_cat_or_dog.compute()\n",
        "    avg_specie_loss = metric_specie.compute()\n",
        "    avg_bbox_loss = metric_bbox.compute()\n",
        "    \n",
        "    return avg_object_loss, avg_cat_or_dog_loss, avg_specie_loss, avg_bbox_loss\n"
      ],
      "metadata": {
        "id": "juO7bOPYXffc"
      },
      "execution_count": 63,
      "outputs": []
    },
    {
      "cell_type": "code",
      "source": [
        "from PIL import ImageDraw\n",
        "\n",
        "def visualize(model_weights, image_folder_path, output_folder=\"output\"):\n",
        "    model = Model()\n",
        "    model.load_state_dict(torch.load(model_weights))\n",
        "    \n",
        "    image_names = os.listdir(image_folder_path)\n",
        "    \n",
        "    os.makedirs(output_folder, exist_ok=True)\n",
        "    \n",
        "    for image_name in image_names:\n",
        "        try:\n",
        "            image = Image.open(os.path.join(image_folder_path, image_name))\n",
        "        except:\n",
        "            continue\n",
        "        \n",
        "        preprocess = transforms.Compose([\n",
        "            transforms.Resize((224, 224)),\n",
        "            transforms.ToTensor(),\n",
        "            transforms.Normalize((0.485, 0.456, 0.406), (0.229, 0.224, 0.225))\n",
        "        ])\n",
        "        \n",
        "        input_image = preprocess(image).unsqueeze(0)\n",
        "        \n",
        "        output = model(input_image)\n",
        "        \n",
        "        # Extract the predictions from the output tensor\n",
        "        \n",
        "        # Visualize the predictions on the image using bounding boxes and labels\n",
        "        \n",
        "        output_image_path = os.path.join(output_folder, image_name)\n",
        "        image.save(output_image_path)\n",
        "    \n",
        "    return {}\n"
      ],
      "metadata": {
        "id": "R5Bl6gppYdNl"
      },
      "execution_count": 64,
      "outputs": []
    },
    {
      "cell_type": "code",
      "source": [
        "# Initialize the model\n",
        "model = Model()\n",
        "# Load the trained model weights\n",
        "model_weights_path = \"model.pth\"\n",
        "model.load_state_dict(torch.load(model_weights_path))\n",
        "\n",
        "# Define the list of images for testing\n",
        "val_list = np.load('/content/drive/MyDrive/assessment_dataset/val_list.npy', allow_pickle=True).tolist()\n",
        "\n",
        "# Test the model on the validation set\n",
        "object_loss, cat_or_dog_loss, specie_loss, bbox_loss = test(model, val_list)\n",
        "print(\"Object Loss:\", object_loss)\n",
        "print(\"Cat or Dog Loss:\", cat_or_dog_loss)\n",
        "print(\"Specie Loss:\", specie_loss)\n",
        "print(\"Bbox Loss:\", bbox_loss)\n",
        "\n",
        "# Visualize the results on a sample image\n",
        "image_folder_path = \"/content/drive/MyDrive/assessment_dataset/images\"\n",
        "output_folder = \"output\"\n",
        "sample_image_name = val_list[0]  # Choose any image from the validation set\n",
        "\n",
        "visualization_results = visualize(model_weights_path, image_folder_path, output_folder)\n",
        "print(\"Visualization results:\", visualization_results)\n"
      ],
      "metadata": {
        "id": "4EGc6-R4ZSb8"
      },
      "execution_count": null,
      "outputs": []
    }
  ],
  "metadata": {
    "accelerator": "GPU",
    "colab": {
      "provenance": [],
      "gpuType": "T4",
      "include_colab_link": true
    },
    "gpuClass": "standard",
    "kernelspec": {
      "display_name": "Python 3",
      "name": "python3"
    },
    "language_info": {
      "name": "python"
    }
  },
  "nbformat": 4,
  "nbformat_minor": 0
}